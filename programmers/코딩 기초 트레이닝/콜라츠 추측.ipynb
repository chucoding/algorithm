{
 "cells": [
  {
   "cell_type": "code",
   "execution_count": null,
   "metadata": {},
   "outputs": [],
   "source": [
    "def solution(num):\n",
    "    answer = 0\n",
    "    while num != 1 :\n",
    "        if answer > 500 : return -1\n",
    "        if num % 2 == 0 : num/=2\n",
    "        else : num = num*3+1\n",
    "        answer += 1\n",
    "    return answer\n"
   ]
  },
  {
   "attachments": {},
   "cell_type": "markdown",
   "metadata": {},
   "source": [
    "# JAVA"
   ]
  },
  {
   "cell_type": "code",
   "execution_count": null,
   "metadata": {},
   "outputs": [],
   "source": [
    "public static int solution(int num) {\n",
    "    int answer = 0;\n",
    "    \n",
    "    while(true) {\n",
    "        \n",
    "        if(answer == 500) return -1;\n",
    "        else if(num == 1) break;\n",
    "        else if(num % 2 == 0) num/=2;\n",
    "        else if(num % 2 == 1) num = num * 3 +1;\n",
    "        \n",
    "        answer++;\n",
    "    }\n",
    "    \n",
    "    return answer;\n",
    "}\n",
    "\t\n",
    "public static void main(String[] args) {\n",
    "    solution(626331);\n",
    "}"
   ]
  }
 ],
 "metadata": {
  "language_info": {
   "name": "python"
  },
  "orig_nbformat": 4
 },
 "nbformat": 4,
 "nbformat_minor": 2
}

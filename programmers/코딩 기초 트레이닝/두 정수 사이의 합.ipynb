{
 "cells": [
  {
   "attachments": {},
   "cell_type": "markdown",
   "metadata": {},
   "source": [
    "## 문제 설명\n",
    "두 정수 a, b가 주어졌을 때 a와 b 사이에 속한 모든 정수의 합을 리턴하는 함수, solution을 완성하세요.\n",
    "예를 들어 a = 3, b = 5인 경우, 3 + 4 + 5 = 12이므로 12를 리턴합니다.\n",
    "\n",
    "## 제한 조건\n",
    "a와 b가 같은 경우는 둘 중 아무 수나 리턴하세요.\n",
    "a와 b는 -10,000,000 이상 10,000,000 이하인 정수입니다.\n",
    "a와 b의 대소관계는 정해져있지 않습니다.\n",
    "\n",
    "## 입출력 예\n",
    "|a|b|return|\n",
    "|---|---|---|\n",
    "|3|5|12|\n",
    "|3|3|3|\n",
    "|5|3|12|\n",
    "\n",
    "출처: 프로그래머스 코딩 테스트 연습\n",
    "https://school.programmers.co.kr/learn/courses/30/lessons/12912"
   ]
  },
  {
   "attachments": {},
   "cell_type": "markdown",
   "metadata": {},
   "source": [
    "## Python"
   ]
  },
  {
   "cell_type": "code",
   "execution_count": null,
   "metadata": {},
   "outputs": [],
   "source": [
    "def solution(a, b):\n",
    "    return sum(range(a,b+1)) if a <= b else sum(range(b,a+1))"
   ]
  },
  {
   "attachments": {},
   "cell_type": "markdown",
   "metadata": {},
   "source": [
    "\n",
    "## 다른 풀이\n",
    "절대값 구하는 공식으로 풀이 => 속도 효율이 훨씬 좋음\n",
    "```return (abs(a-b)+1)*(a+b)//2```"
   ]
  }
 ],
 "metadata": {
  "language_info": {
   "name": "python"
  },
  "orig_nbformat": 4
 },
 "nbformat": 4,
 "nbformat_minor": 2
}

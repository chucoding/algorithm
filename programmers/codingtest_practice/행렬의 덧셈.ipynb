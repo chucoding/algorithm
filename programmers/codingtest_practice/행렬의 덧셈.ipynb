{
 "cells": [
  {
   "attachments": {},
   "cell_type": "markdown",
   "metadata": {},
   "source": [
    "# 문제 설명\n",
    "행렬의 덧셈은 행과 열의 크기가 같은 두 행렬의 같은 행, 같은 열의 값을 서로 더한 결과가 됩니다. 2개의 행렬 arr1과 arr2를 입력받아, 행렬 덧셈의 결과를 반환하는 함수, solution을 완성해주세요.\n",
    "\n",
    "# 제한 조건\n",
    "행렬 arr1, arr2의 행과 열의 길이는 500을 넘지 않습니다.\n",
    "\n",
    "# 입출력 예\n",
    "|arr1|arr2|return|\n",
    "|---|---|---|\n",
    "|[[1,2],[2,3]]|[[3,4],[5,6]]|[[4,6],[7,9]]|\n",
    "|[[1],[2]]|[[3],[4]]|[[4],[6]]|\n",
    "\n",
    "# 출처\n",
    "https://school.programmers.co.kr/learn/courses/30/lessons/12950"
   ]
  },
  {
   "attachments": {},
   "cell_type": "markdown",
   "metadata": {},
   "source": [
    "# Python"
   ]
  },
  {
   "cell_type": "code",
   "execution_count": null,
   "metadata": {},
   "outputs": [],
   "source": [
    "def solution(arr1, arr2):\n",
    "    answer = [[0 for j in range(len(arr1[i]))] for i in range(len(arr1))];\n",
    "    for i in range(len(arr1)):\n",
    "        for j in range(len(arr1[i])):\n",
    "            answer[i][j] = arr1[i][j] + arr2[i][j];\n",
    "    return answer"
   ]
  },
  {
   "attachments": {},
   "cell_type": "markdown",
   "metadata": {},
   "source": [
    "# Java"
   ]
  },
  {
   "cell_type": "code",
   "execution_count": null,
   "metadata": {},
   "outputs": [],
   "source": [
    "public static int[][] solution(int[][] arr1, int[][] arr2) {\n",
    "    int[][] answer = {};\n",
    "    \n",
    "    answer = new int[arr1.length][arr1[0].length];\n",
    "    for(int i=0; i<arr1.length; i++) {\n",
    "        for(int j=0; j<arr1[i].length; j++) {\n",
    "            answer[i][j] = arr1[i][j] + arr2[i][j];\n",
    "        }\n",
    "    }\n",
    "    \n",
    "    return answer;\n",
    "}\n",
    "\t\n",
    "public static void main(String[] args) {\n",
    "    solution(new int[][] {{1,2},{2,3}}, new int[][] {{3,4},{5,6}});\n",
    "}\n"
   ]
  }
 ],
 "metadata": {
  "language_info": {
   "name": "python"
  },
  "orig_nbformat": 4
 },
 "nbformat": 4,
 "nbformat_minor": 2
}

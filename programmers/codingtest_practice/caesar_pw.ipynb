{
 "cells": [
  {
   "attachments": {},
   "cell_type": "markdown",
   "metadata": {},
   "source": [
    "# 문제 설명\n",
    "어떤 문장의 각 알파벳을 일정한 거리만큼 밀어서 다른 알파벳으로 바꾸는 암호화 방식을 시저 암호라고 합니다. 예를 들어 \"AB\"는 1만큼 밀면 \"BC\"가 되고, 3만큼 밀면 \"DE\"가 됩니다. \"z\"는 1만큼 밀면 \"a\"가 됩니다. 문자열 s와 거리 n을 입력받아 s를 n만큼 민 암호문을 만드는 함수, solution을 완성해 보세요.\n",
    "\n",
    "# 제한 조건\n",
    "공백은 아무리 밀어도 공백입니다.\n",
    "s는 알파벳 소문자, 대문자, 공백으로만 이루어져 있습니다.\n",
    "s의 길이는 8000이하입니다.\n",
    "n은 1 이상, 25이하인 자연수입니다.\n",
    "\n",
    "# 입출력 예\n",
    "|s|n|result|\n",
    "|---|---|---|\n",
    "|\"AB\"|1|\"BC\"|\n",
    "|\"z\"|1|\"a\"|\n",
    "|\"a B z\"|4|\"e F d\"|\n",
    "\n",
    "# 다른 사람 풀이\n",
    "isupper() : 대문자이면 True 반환\n",
    "islower() : 소문자이면 True 반환\n",
    "\n",
    "%26을 하면 소문자든 대문자든 개수만큼 사용가능"
   ]
  },
  {
   "cell_type": "code",
   "execution_count": null,
   "metadata": {},
   "outputs": [],
   "source": [
    "def solution(s, n):\n",
    "    answer = ''\n",
    "    for i in s:\n",
    "        if i == \" \":\n",
    "            answer += \" \"\n",
    "            continue\n",
    "        code = ord(i)\n",
    "        if code <= 90:\n",
    "            answer += chr((code + n)%90 + 64) if code + n > 90 else chr(code+n)\n",
    "        else :\n",
    "            answer += chr((code + n)%122 + 96) if code + n > 122 else chr(code+n)\n",
    "    return answer"
   ]
  },
  {
   "cell_type": "code",
   "execution_count": null,
   "metadata": {},
   "outputs": [],
   "source": [
    "\n",
    "public static String solution(String s, int n) {\n",
    "    String answer = \"\";\n",
    "\n",
    "    char[] str = s.toCharArray();\n",
    "    char[] str2 = s.toCharArray();\n",
    "    for(int i=0; i<str.length; i++){    \n",
    "        if(str[i] >= 65 && str[i] <=90) {\n",
    "            if(str[i] + n > 90) str2[i] = (char)((str[i] + n) % 90 + 65);\n",
    "            else str2[i] = (char)((str[i] + n ));\n",
    "        }\n",
    "        else if(str[i] >= 97 && str[i] <=122){\n",
    "            if(str[i] + n > 122) str2[i] = (char)((str[i] + n) % 122 + 96);\n",
    "            else str2[i] = (char)((str[i] + n ) % 122);\n",
    "        } else str2[i] = str[i];\n",
    "    }\n",
    "\n",
    "    answer = new String(str2);\n",
    "    return answer;\n",
    "}\n",
    "\n",
    "public static void main(String[] args) {\n",
    "    solution(\"AB\",1);\n",
    "    solution(\"z\",1);\n",
    "}"
   ]
  }
 ],
 "metadata": {
  "language_info": {
   "name": "python"
  },
  "orig_nbformat": 4
 },
 "nbformat": 4,
 "nbformat_minor": 2
}

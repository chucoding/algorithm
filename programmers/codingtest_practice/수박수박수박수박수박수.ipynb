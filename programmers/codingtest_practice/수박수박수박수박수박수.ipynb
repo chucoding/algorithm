{
 "cells": [
  {
   "attachments": {},
   "cell_type": "markdown",
   "metadata": {},
   "source": [
    "# 문제 설명\n",
    "길이가 n이고, \"수박수박수박수....\"와 같은 패턴을 유지하는 문자열을 리턴하는 함수, solution을 완성하세요. 예를들어 n이 4이면 \"수박수박\"을 리턴하고 3이라면 \"수박수\"를 리턴하면 됩니다.\n",
    "\n",
    "# 제한 조건\n",
    "n은 길이 10,000이하인 자연수입니다.\n",
    "\n",
    "# 입출력 예\n",
    "|n|return|\n",
    "|---|---|\n",
    "|3|\"수박수\"|\n",
    "|4|\"수박수박\"|\n",
    "\n",
    "# 출처\n",
    "https://school.programmers.co.kr/learn/courses/30/lessons/12922"
   ]
  },
  {
   "attachments": {},
   "cell_type": "markdown",
   "metadata": {},
   "source": [
    "# Python"
   ]
  },
  {
   "cell_type": "code",
   "execution_count": null,
   "metadata": {},
   "outputs": [],
   "source": [
    "def solution(n):\n",
    "    return \"\".join([['수','박'][i%2] for i in range(n)])"
   ]
  }
 ],
 "metadata": {
  "language_info": {
   "name": "python"
  },
  "orig_nbformat": 4
 },
 "nbformat": 4,
 "nbformat_minor": 2
}

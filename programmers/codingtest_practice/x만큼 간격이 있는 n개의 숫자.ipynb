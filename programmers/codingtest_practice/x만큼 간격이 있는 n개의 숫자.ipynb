{
 "cells": [
  {
   "attachments": {},
   "cell_type": "markdown",
   "metadata": {},
   "source": [
    "# Python"
   ]
  },
  {
   "cell_type": "code",
   "execution_count": 1,
   "metadata": {},
   "outputs": [],
   "source": [
    "def solution(x, n):\n",
    "    return [(i+1)*x for i in range(n)]"
   ]
  },
  {
   "attachments": {},
   "cell_type": "markdown",
   "metadata": {},
   "source": [
    "# Java"
   ]
  },
  {
   "cell_type": "code",
   "execution_count": null,
   "metadata": {},
   "outputs": [],
   "source": [
    "public static long[] solution(int x, int n) {\n",
    "    long[] answer = {};\n",
    "    \n",
    "    answer = new long[n];\n",
    "    answer[0] = x;\n",
    "    for(int i=1; i<n; i++) {\n",
    "        answer[i] = answer[i-1] + x;\n",
    "    }\n",
    "    \n",
    "    return answer;\n",
    "}\n",
    "\n",
    "public static void main(String[] args) {\n",
    "    solution(2,5);\n",
    "}"
   ]
  }
 ],
 "metadata": {
  "kernelspec": {
   "display_name": "Python 3",
   "language": "python",
   "name": "python3"
  },
  "language_info": {
   "codemirror_mode": {
    "name": "ipython",
    "version": 3
   },
   "file_extension": ".py",
   "mimetype": "text/x-python",
   "name": "python",
   "nbconvert_exporter": "python",
   "pygments_lexer": "ipython3",
   "version": "3.9.6"
  },
  "orig_nbformat": 4
 },
 "nbformat": 4,
 "nbformat_minor": 2
}

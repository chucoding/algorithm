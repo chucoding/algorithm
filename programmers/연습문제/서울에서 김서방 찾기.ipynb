{
 "cells": [
  {
   "attachments": {},
   "cell_type": "markdown",
   "metadata": {},
   "source": [
    "# 문제 설명\n",
    "String형 배열 seoul의 element중 \"Kim\"의 위치 x를 찾아, \"김서방은 x에 있다\"는 String을 반환하는 함수, solution을 완성하세요. seoul에 \"Kim\"은 오직 한 번만 나타나며 잘못된 값이 입력되는 경우는 없습니다.\n",
    "\n",
    "# 제한 사항\n",
    "seoul은 길이 1 이상, 1000 이하인 배열입니다.\n",
    "seoul의 원소는 길이 1 이상, 20 이하인 문자열입니다.\n",
    "\"Kim\"은 반드시 seoul 안에 포함되어 있습니다.\n",
    "\n",
    "# 입출력 예\n",
    "|seoul|return|\n",
    "|---|---|\n",
    "|[\"Jane\", \"Kim\"]|\"김서방은 1에 있다\"|\n",
    "\n",
    "# 다른 사람 풀이\n",
    "문자열 내장함수 format 사용\n",
    "\n",
    "# 출처\n",
    "https://school.programmers.co.kr/learn/challenges?order=recent&page=28"
   ]
  },
  {
   "attachments": {},
   "cell_type": "markdown",
   "metadata": {},
   "source": [
    "# Python"
   ]
  },
  {
   "cell_type": "code",
   "execution_count": null,
   "metadata": {},
   "outputs": [],
   "source": [
    "def solution(seoul):\n",
    "    return \"김서방은 %d에 있다\" % (seoul.index(\"Kim\"))"
   ]
  }
 ],
 "metadata": {
  "language_info": {
   "name": "python"
  },
  "orig_nbformat": 4
 },
 "nbformat": 4,
 "nbformat_minor": 2
}

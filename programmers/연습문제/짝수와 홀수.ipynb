{
 "cells": [
  {
   "attachments": {},
   "cell_type": "markdown",
   "metadata": {},
   "source": [
    "# 문제 설명\n",
    "정수 num이 짝수일 경우 \"Even\"을 반환하고 홀수인 경우 \"Odd\"를 반환하는 함수, solution을 완성해주세요.\n",
    "\n",
    "# 제한 조건\n",
    "num은 int 범위의 정수입니다.\n",
    "0은 짝수입니다.\n",
    "\n",
    "# 입출력 예\n",
    "|num|return|\n",
    "|---|---|\n",
    "|3|\"Odd\"|\n",
    "|4|\"Even\"|\n",
    "\n",
    "# 다른사람 풀이\n",
    "https://programmers.co.kr/learn/courses/30/lessons/12937/solution_groups?language=python3\n",
    "\n",
    "# 출처\n",
    "https://school.programmers.co.kr/learn/courses/30/lessons/12937"
   ]
  },
  {
   "attachments": {},
   "cell_type": "markdown",
   "metadata": {},
   "source": [
    "# Python"
   ]
  },
  {
   "cell_type": "code",
   "execution_count": null,
   "metadata": {},
   "outputs": [],
   "source": [
    "def solution(num):\n",
    "    return \"Even\" if num % 2 == 0 else \"Odd\""
   ]
  }
 ],
 "metadata": {
  "language_info": {
   "name": "python"
  },
  "orig_nbformat": 4
 },
 "nbformat": 4,
 "nbformat_minor": 2
}

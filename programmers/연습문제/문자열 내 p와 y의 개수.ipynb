{
 "cells": [
  {
   "attachments": {},
   "cell_type": "markdown",
   "metadata": {},
   "source": [
    "# 문제 설명\n",
    "대문자와 소문자가 섞여있는 문자열 s가 주어집니다. s에 'p'의 개수와 'y'의 개수를 비교해 같으면 True, 다르면 False를 return 하는 solution를 완성하세요. 'p', 'y' 모두 하나도 없는 경우는 항상 True를 리턴합니다. 단, 개수를 비교할 때 대문자와 소문자는 구별하지 않습니다.\n",
    "\n",
    "예를 들어 s가 \"pPoooyY\"면 true를 return하고 \"Pyy\"라면 false를 return합니다.\n",
    "\n",
    "# 제한사항\n",
    "문자열 s의 길이 : 50 이하의 자연수\n",
    "문자열 s는 알파벳으로만 이루어져 있습니다.\n",
    "\n",
    "# 입출력 예\n",
    "s\tanswer\n",
    "\"pPoooyY\"\ttrue\n",
    "\"Pyy\"\tfalse\n",
    "\n",
    "# 입출력 예 설명\n",
    "## 입출력 예 #1\n",
    "'p'의 개수 2개, 'y'의 개수 2개로 같으므로 true를 return 합니다.\n",
    "\n",
    "## 입출력 예 #2\n",
    "'p'의 개수 1개, 'y'의 개수 2개로 다르므로 false를 return 합니다.\n",
    "\n",
    "# 다른 사람 풀이\n",
    "해쉬로 풀면 O(1)의 시간이 걸린다(?)\n",
    "```\n",
    "from collections import Counter\n",
    "def numPY(s):\n",
    "    c = Counter(s.lower())\n",
    "    return c['y'] == c['p'] \n",
    "```\n",
    "\n",
    "# 출처\n",
    "https://school.programmers.co.kr/learn/courses/30/lessons/12916"
   ]
  },
  {
   "attachments": {},
   "cell_type": "markdown",
   "metadata": {},
   "source": [
    "# Python"
   ]
  },
  {
   "cell_type": "code",
   "execution_count": null,
   "metadata": {},
   "outputs": [],
   "source": [
    "def solution(s):\n",
    "    x = s.upper()\n",
    "    return x.count(\"P\") == x.count(\"Y\")"
   ]
  }
 ],
 "metadata": {
  "language_info": {
   "name": "python"
  },
  "orig_nbformat": 4
 },
 "nbformat": 4,
 "nbformat_minor": 2
}

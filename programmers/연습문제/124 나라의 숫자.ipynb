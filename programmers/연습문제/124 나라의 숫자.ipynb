{
 "cells": [
  {
   "attachments": {},
   "cell_type": "markdown",
   "metadata": {},
   "source": [
    "# 문제 설명\n",
    "124 나라가 있습니다. 124 나라에서는 10진법이 아닌 다음과 같은 자신들만의 규칙으로 수를 표현합니다.\n",
    "\n",
    "124 나라에는 자연수만 존재합니다.\n",
    "124 나라에는 모든 수를 표현할 때 1, 2, 4만 사용합니다.\n",
    "예를 들어서 124 나라에서 사용하는 숫자는 다음과 같이 변환됩니다.\n",
    "\n",
    "|10진법|124 나라|10진법|124 나라|\n",
    "|---|---|---|---|\n",
    "|1|1|6|14|\n",
    "|2|2|7|21|\n",
    "|3|4|8|22|\n",
    "|4|11|9|24|\n",
    "|5|12|10|41|\n",
    "\n",
    "자연수 n이 매개변수로 주어질 때, n을 124 나라에서 사용하는 숫자로 바꾼 값을 return 하도록 solution 함수를 완성해 주세요.\n",
    "\n",
    "# 제한사항\n",
    "n은 50,000,000이하의 자연수 입니다.\n",
    "\n",
    "# 입출력 예\n",
    "|n|result|\n",
    "|---|---|\n",
    "|1|1|\n",
    "|2|2|\n",
    "|3|4|\n",
    "|4|11|\n",
    "\n",
    "# 출처\n",
    "https://school.programmers.co.kr/learn/courses/30/lessons/12899"
   ]
  },
  {
   "attachments": {},
   "cell_type": "markdown",
   "metadata": {},
   "source": [
    "# Java"
   ]
  },
  {
   "cell_type": "code",
   "execution_count": null,
   "metadata": {},
   "outputs": [],
   "source": [
    "import java.util.Stack;\n",
    "\n",
    "public class Country124 {\n",
    "\n",
    "\tprivate static int[] arr = {1,2,4};\n",
    "\t\n",
    "\tpublic static String solution(int n) {\n",
    "\t\tString answer = \"\";\n",
    "\t\t\n",
    "\t\tint length = (int) Math.ceil((n-1)/3)+1;\n",
    "\t\tdfs(answer, 0, n, length);\n",
    "\t\treturn answer;\n",
    "\t}\n",
    "\t\n",
    "\tpublic static String dfs(String answer, int i, int n, int length) {\n",
    "\t\t\n",
    "\t\tif(length == 0) return answer;\n",
    "\t\t\n",
    "\t\tStack st = new Stack();\n",
    "\t\t\n",
    "\t\tchar temp = Character.forDigit(arr[(n-1)%3], 10);\n",
    "\t\tanswer += temp;\n",
    "\t\tSystem.out.print(temp);\n",
    "\t\treturn dfs(answer, i, n, --length);\n",
    "\t\t\n",
    "\t}\n",
    "\n",
    "\tpublic static void main(String[] args) {\n",
    "\t\tSystem.out.println(solution(1));\n",
    "\t\tSystem.out.println(solution(2));\n",
    "\t\tSystem.out.println(solution(3));\n",
    "\t\tSystem.out.println(solution(4));\n",
    "\t\tSystem.out.println(solution(5));\n",
    "\t}\n",
    "}\n"
   ]
  }
 ],
 "metadata": {
  "language_info": {
   "name": "python"
  },
  "orig_nbformat": 4
 },
 "nbformat": 4,
 "nbformat_minor": 2
}

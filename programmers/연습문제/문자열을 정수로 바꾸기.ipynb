{
 "cells": [
  {
   "attachments": {},
   "cell_type": "markdown",
   "metadata": {},
   "source": [
    "# 문제 설명\n",
    "문자열 s를 숫자로 변환한 결과를 반환하는 함수, solution을 완성하세요.\n",
    "\n",
    "# 제한 조건\n",
    "s의 길이는 1 이상 5이하입니다.\n",
    "s의 맨앞에는 부호(+, -)가 올 수 있습니다.\n",
    "s는 부호와 숫자로만 이루어져있습니다.\n",
    "s는 \"0\"으로 시작하지 않습니다.\n",
    "\n",
    "# 입출력 예\n",
    "예를들어 str이 \"1234\"이면 1234를 반환하고, \"-1234\"이면 -1234를 반환하면 됩니다.\n",
    "str은 부호(+,-)와 숫자로만 구성되어 있고, 잘못된 값이 입력되는 경우는 없습니다.\n",
    "\n",
    "# 다른 사람 풀이\n",
    "if else 문으로 문자 1~9까지 케이스 마다\n",
    "1~9까지 정수를 변수에 담아서 마지막에 출력\n",
    "=> 실행시간이 더 빠르다(?)\n",
    "\n",
    "# 출처\n",
    "https://school.programmers.co.kr/learn/courses/30/lessons/12925"
   ]
  },
  {
   "attachments": {},
   "cell_type": "markdown",
   "metadata": {},
   "source": [
    "# Python"
   ]
  },
  {
   "cell_type": "code",
   "execution_count": null,
   "metadata": {},
   "outputs": [],
   "source": [
    "def solution(s):\n",
    "    return int(s)"
   ]
  }
 ],
 "metadata": {
  "language_info": {
   "name": "python"
  },
  "orig_nbformat": 4
 },
 "nbformat": 4,
 "nbformat_minor": 2
}
